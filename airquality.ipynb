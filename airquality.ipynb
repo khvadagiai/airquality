{
 "cells": [
  {
   "cell_type": "code",
   "execution_count": 1,
   "metadata": {},
   "outputs": [],
   "source": [
    "import pandas as pd"
   ]
  },
  {
   "cell_type": "code",
   "execution_count": 2,
   "metadata": {},
   "outputs": [
    {
     "data": {
      "text/html": [
       "<div>\n",
       "<style scoped>\n",
       "    .dataframe tbody tr th:only-of-type {\n",
       "        vertical-align: middle;\n",
       "    }\n",
       "\n",
       "    .dataframe tbody tr th {\n",
       "        vertical-align: top;\n",
       "    }\n",
       "\n",
       "    .dataframe thead th {\n",
       "        text-align: right;\n",
       "    }\n",
       "</style>\n",
       "<table border=\"1\" class=\"dataframe\">\n",
       "  <thead>\n",
       "    <tr style=\"text-align: right;\">\n",
       "      <th></th>\n",
       "      <th>site</th>\n",
       "      <th>date</th>\n",
       "      <th>o3</th>\n",
       "      <th>no</th>\n",
       "      <th>no2</th>\n",
       "      <th>pm10</th>\n",
       "      <th>so2</th>\n",
       "    </tr>\n",
       "  </thead>\n",
       "  <tbody>\n",
       "    <tr>\n",
       "      <th>0</th>\n",
       "      <td>debw004</td>\n",
       "      <td>2018-01-01</td>\n",
       "      <td>1720.6</td>\n",
       "      <td>0.4</td>\n",
       "      <td>63.1</td>\n",
       "      <td>72.8</td>\n",
       "      <td>24.8</td>\n",
       "    </tr>\n",
       "    <tr>\n",
       "      <th>1</th>\n",
       "      <td>debw004</td>\n",
       "      <td>2018-01-02</td>\n",
       "      <td>1435.4</td>\n",
       "      <td>3.5</td>\n",
       "      <td>181.4</td>\n",
       "      <td>120.0</td>\n",
       "      <td>40.7</td>\n",
       "    </tr>\n",
       "    <tr>\n",
       "      <th>2</th>\n",
       "      <td>debw004</td>\n",
       "      <td>2018-01-03</td>\n",
       "      <td>1551.6</td>\n",
       "      <td>1.8</td>\n",
       "      <td>99.0</td>\n",
       "      <td>112.0</td>\n",
       "      <td>47.7</td>\n",
       "    </tr>\n",
       "    <tr>\n",
       "      <th>3</th>\n",
       "      <td>debw004</td>\n",
       "      <td>2018-01-04</td>\n",
       "      <td>1257.2</td>\n",
       "      <td>4.8</td>\n",
       "      <td>267.4</td>\n",
       "      <td>78.6</td>\n",
       "      <td>33.8</td>\n",
       "    </tr>\n",
       "    <tr>\n",
       "      <th>4</th>\n",
       "      <td>debw004</td>\n",
       "      <td>2018-01-05</td>\n",
       "      <td>1359.1</td>\n",
       "      <td>14.7</td>\n",
       "      <td>320.3</td>\n",
       "      <td>98.6</td>\n",
       "      <td>32.8</td>\n",
       "    </tr>\n",
       "  </tbody>\n",
       "</table>\n",
       "</div>"
      ],
      "text/plain": [
       "      site        date      o3    no    no2   pm10   so2\n",
       "0  debw004  2018-01-01  1720.6   0.4   63.1   72.8  24.8\n",
       "1  debw004  2018-01-02  1435.4   3.5  181.4  120.0  40.7\n",
       "2  debw004  2018-01-03  1551.6   1.8   99.0  112.0  47.7\n",
       "3  debw004  2018-01-04  1257.2   4.8  267.4   78.6  33.8\n",
       "4  debw004  2018-01-05  1359.1  14.7  320.3   98.6  32.8"
      ]
     },
     "execution_count": 2,
     "metadata": {},
     "output_type": "execute_result"
    }
   ],
   "source": [
    "airquality = pd.read_csv('airquality.csv')\n",
    "airquality.head()"
   ]
  },
  {
   "cell_type": "code",
   "execution_count": null,
   "metadata": {},
   "outputs": [],
   "source": []
  }
 ],
 "metadata": {
  "kernelspec": {
   "display_name": "programming",
   "language": "python",
   "name": "python3"
  },
  "language_info": {
   "codemirror_mode": {
    "name": "ipython",
    "version": 3
   },
   "file_extension": ".py",
   "mimetype": "text/x-python",
   "name": "python",
   "nbconvert_exporter": "python",
   "pygments_lexer": "ipython3",
   "version": "3.11.2"
  }
 },
 "nbformat": 4,
 "nbformat_minor": 2
}
